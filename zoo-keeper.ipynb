{
 "cells": [
  {
   "cell_type": "markdown",
   "metadata": {},
   "source": [
    "# Pequeña guía de conceptos básicos de Python. \n",
    "\n",
    "Material del pryecto 'zoo-keeper' de Jetbrains"
   ]
  },
  {
   "cell_type": "code",
   "execution_count": null,
   "metadata": {},
   "outputs": [],
   "source": [
    "# comillas dentro de una cadena:\n",
    "print(\"Yes, I'm ready to learn Pthon\")\n",
    "\n",
    "#Marca error si se pone un espacio antes\n",
    "#   print(\"Yes, I'm ready to learn Python\")"
   ]
  },
  {
   "cell_type": "code",
   "execution_count": null,
   "metadata": {},
   "outputs": [],
   "source": [
    "print(\"The ship's name is 'brave'\")\n",
    "print(2+2)\n",
    "print('2 + 2 = 4')\n",
    "print('')\n",
    "print()\n",
    "print('hola')"
   ]
  },
  {
   "cell_type": "code",
   "execution_count": null,
   "metadata": {},
   "outputs": [],
   "source": [
    "print('I do love animals!')\n",
    "print('Start looking after animals...')\n",
    "print('Deer looks fine.')\n",
    "print('Bat looks happy.')\n",
    "print('Lion looks healthy.')"
   ]
  },
  {
   "cell_type": "markdown",
   "metadata": {},
   "source": [
    "# PEP8\n",
    "\n",
    "Python Enhancement Proposal: https://www.python.org/dev/peps/pep-0008/#introduction\n",
    "\n",
    "No dejar espacios innecesarios dentro del paréntesis de una función, evitar los espacios extras.\n",
    "Una línea de código no debe de tener más de 79 caracteres.\n",
    "\n",
    "los comentarios tienen que ir al mismo nível del código, o en la misma línea separado por dos espacios.\n",
    "En vez de borrar, ¡comenta!"
   ]
  },
  {
   "cell_type": "code",
   "execution_count": null,
   "metadata": {},
   "outputs": [],
   "source": [
    "# Reglas de comentarios inline:\n",
    "# El símbolo gato separado del código por dos espacios, texto de # por un espacio.\n",
    "print(\"I'M GORGEOUS\")  # Este es un buen comentario.\n",
    "print(\"I'm not gorgeous\")#Este no es un buen comentario\n",
    "\n",
    "   # Este comentario está mal\n",
    "print('Todo mal')\n",
    "\n",
    "# Imagine that this is an example of a really long comment\n",
    "# that we need to spread over three lines, so we continue\n",
    "# to write it even here.\n",
    "print(\"The long comment above explains this line of code.\")\n",
    "\n",
    "# Es mejor\n",
    "# utilizar\n",
    "# varios ####"
   ]
  },
  {
   "cell_type": "markdown",
   "metadata": {},
   "source": [
    "# Tipos de datos\n",
    "\n",
    "1. Strings -> texto; dentro de \"\" ó ''. Tipo: str\n",
    "2. Numeric: integer para contar, float para hacer cálculos estadísticos.\n",
    "\n",
    "\n",
    "- integer -> números enteros: int.   11 es de tipo int\n",
    "- float   -> números reales: float.  11.0 es de tipo float\n",
    "\n",
    "\n",
    "3. Hola"
   ]
  },
  {
   "cell_type": "code",
   "execution_count": null,
   "metadata": {},
   "outputs": [],
   "source": [
    "# Notar que los comntarios están alineados entre ellos \n",
    "# respecto al último print, ya que es el más largo.\n",
    "print(\"\")               # empty string\n",
    "print(\"string\")         # one word\n",
    "print(\"Hello, world!\")  # a sentence\n",
    "\n",
    "# Strings con una sola comilla\n",
    "print('a')                     # single character\n",
    "print('1234')                  # a sequence of digits\n",
    "print('Bonjour, le monde!')    # a sentence\n",
    "print('hello@hyperskill.org')  # printing an email\n",
    "print()\n",
    "\n",
    "print(11)     # prints 11\n",
    "print(11.0)   # prints 11.0\n",
    "print(0)      # prints 0\n",
    "print(-5)     # prints -5\n",
    "print(-1.03)  # prints -1.03 "
   ]
  },
  {
   "cell_type": "code",
   "execution_count": null,
   "metadata": {},
   "outputs": [],
   "source": [
    "# Imprimiendo los tipos de datos:\n",
    "print(type('hello'))  # <class 'str'>\n",
    "print(type(\"world\"))  # <class 'str'>\n",
    " \n",
    "print(type(100))      # <class 'int'>\n",
    "print(type(-50))      # <class 'int'>\n",
    " \n",
    "print(type(3.14))     # <class 'float'>\n",
    "print(type(-0.5))     # <class 'float'>"
   ]
  },
  {
   "cell_type": "markdown",
   "metadata": {},
   "source": [
    "# Quotes\n",
    "\n",
    "- use double quotes if your string contains single quotes, for example, \"You're doing great!\"\n",
    "- use single quotes if your string contains double quotes, for example, 'Have you read \"Hamlet\"?'\n",
    "- do NOT mix two styles in one literal, for example, something like \"string!' is NOT correct\n",
    "- most importantly, be consistent in your use!\n",
    "\n",
    "Si usamos el símbolo \\ antes de comillas indicamos que las comillas van dentro de la cadena y que no debe terminar/empezar ahí.\n",
    "\n",
    "# Cadenas de múltiples líneas:\n",
    "\n",
    "Se usan con tres comillas para indicar el inicio y con tres comillas para indicar el final."
   ]
  },
  {
   "cell_type": "code",
   "execution_count": null,
   "metadata": {},
   "outputs": [],
   "source": [
    "# example 1\n",
    "print(\"You're doing great!\")\n",
    "print('You\\'re doing great!')\n",
    "# example 2\n",
    "print(\"Have you read \\\"Hamlet\\\"?\")\n",
    "print('Have you read \"Hamlet\"?')\n",
    "print()\n",
    "# Cadena multínea con comillas dobles\n",
    "print(\"\"\"This\n",
    "is\n",
    "a\n",
    "multi-line\n",
    "string\"\"\")\n",
    "print()\n",
    "# Cadena multilínea con comillas simples\n",
    "print('''This\n",
    "is\n",
    "a\n",
    "multi-line\n",
    "string''')"
   ]
  },
  {
   "cell_type": "code",
   "execution_count": null,
   "metadata": {},
   "outputs": [],
   "source": [
    "print(\"\"\"\n",
    "' '' '''\n",
    "' '' '''\n",
    "' '' '''\n",
    "\"\"\") \n",
    "print('''\n",
    "\"\"\" \n",
    "THIS IS A STRING\n",
    "\"\"\" ''')\n",
    "\n",
    "\n",
    "word1 = \"philosopher\"\n",
    "word2 = \"stone\"\n",
    "# add the correct string instead of the dots\n",
    "print(word1 + \"'s\" + word2)"
   ]
  },
  {
   "cell_type": "code",
   "execution_count": null,
   "metadata": {},
   "outputs": [],
   "source": [
    "print('''\n",
    "Did that stop the old Grinch?\n",
    "No! The Grinch simply said,\n",
    "\"If I can\\'t find  reindeer,\n",
    "I\\'ll make one instead!\" ''')\n"
   ]
  },
  {
   "cell_type": "markdown",
   "metadata": {},
   "source": [
    "# ¿Qué es una variable?\n",
    "Variable es un lugar nombrado donde puedes guaradar algún valor y acceder al valor más tarde. Imagina una caja donde guardas algo. Eso es una variable.\n",
    "\n",
    "En general, es convención que las variables lleven un nombre que describa su contenido.\n",
    "\n",
    "Python es un lenguaje con escritura dinámica, investigar más.\n",
    "\n",
    "Si se usa una variable no definida antes, Python lanzará un NameError."
   ]
  },
  {
   "cell_type": "code",
   "execution_count": null,
   "metadata": {},
   "outputs": [],
   "source": [
    "# Por ejemplo: estamos calculando la suma y nos gustaría hacerlo varias veces para números diferentes. \n",
    "# En este caso solo operas con \"cajas\".\n",
    "#\n",
    "y = 1\n",
    "z = 2\n",
    "x = y + z\n",
    "\n",
    "day_of_week = 'martes'  # Variable tipo str\n",
    "print(day_of_week)\n",
    "print(type(day_of_week))\n",
    "\n",
    "# Siempre se le puede asginar un nuevo valor a una variable definida.\n",
    "day_of_week = 'lunes'\n",
    "print(day_of_week)\n",
    "\n",
    "# También le puedes asignar un nuevo valor de diferente tipo a una variable definida.\n",
    "month_of_year = 'mayo'\n",
    "print(month_of_year)\n",
    "\n",
    "month_of_year = 12\n",
    "print(month_of_year)"
   ]
  },
  {
   "cell_type": "markdown",
   "metadata": {},
   "source": [
    "# Reglas de nombramiento:\n",
    "+ nombres son sensibles a las mayúsculas.\n",
    "+ un nombre comienza con una letra o un guión bajo, seguido de letras, dígitos y guiones bajo (user_name, score1, _count).\n",
    "+ el nombre no puede empezar con un dígito (2q no es un nobre válido).\n",
    "+ un nombre no debe de ser una keyword de python (and, as, if, for, del, def, etc...)."
   ]
  },
  {
   "cell_type": "markdown",
   "metadata": {},
   "source": [
    "# Listas\n",
    "A veces se necesita agrupar varios elementos para poder procesarlos como un solo objeto. Para esto, necesitarás usar diferentes colecciones. Una de las más útiles colecciones in Pyhton es una lista. Las listas son una de las cosas más importantes en Python.\n",
    "\n",
    "Las listas también se pueden crear invocando a la función list(). Se utiliza con un objeto _iterable_. Entonces, la función list() crea una lista que contiene cada elemento del objeto iterable. Por ahora, recordar que una cadena es un ejemplo de un objeto iterable, y un entero es un ejemplo de un objeto no iterable. Una lista es un objeto iterable.\n",
    "\n",
    "Las listas pueden tener elementos repetidos las veces que sea.\n",
    "\n",
    "_**Importante:**_ las listas pueden contener diferentes tipos de elementos. no hay restricciones, ni tampoco tipos fijos de lista, puedes añadir a tu lista cualquier dato que quieras.\n",
    "\n",
    "La función len() sirve para calcular el número de elementos de una lista. La función len() se aplica a objetos iterables."
   ]
  },
  {
   "cell_type": "code",
   "execution_count": null,
   "metadata": {},
   "outputs": [],
   "source": [
    "# Ejemplos de lista:\n",
    "# Los elementos se imprimen en el mismo orden que están definidos en la lista porque las listas están ordenadas.\n",
    "dog_breeds = ['corgi', 'labrador', 'poodle', 'jack russel']\n",
    "print(dog_breeds) \n",
    "\n",
    "numbers = [1, 2, 3, 4, 5]\n",
    "print(numbers)\n",
    "\n",
    "# Crear lista con función \n",
    "list_out_of_string = list('danger!')\n",
    "print(list_out_of_string)\n",
    "\n",
    "\n",
    "# Diferencia entre utilizar la funciín list y utilizar brazaletes.\n",
    "multi_element_list = list('danger!')\n",
    "print(multi_element_list )  # ['d', 'a', 'n', 'g', 'e', 'r', '!']\n",
    " \n",
    "single_element_list = ['danger!']\n",
    "print(single_element_list)  # ['danger!']\n",
    "\n",
    "# También se pueden crear listas vacías con ambas maneras\n",
    "empty_list_1 = list()\n",
    "empty_list_2 = []\n",
    "\n",
    "# Se pueden repetir loe elementos las veces que sean.\n",
    "on_off_list = ['on', 'off', 'on', 'off', 'on']\n",
    "print(on_off_list)  # ['on', 'off', 'on', 'off', 'on']\n",
    "\n",
    "# Lista de diferentes tipos de datos\n",
    "different_objects = [1, 'uno', 2, 'dos', 3, '3']\n",
    "print(different_objects)\n",
    "\n",
    "# Longiutd de lista\n",
    "numbers = [1, 2, 3, 4, 5]\n",
    "print(len(numbers))  # 5\n",
    " \n",
    "empty_list = list()\n",
    "print(len(empty_list))  # 0\n",
    " \n",
    "single_element_list = ['danger!']\n",
    "print(len(single_element_list))  # 1\n",
    " \n",
    "multi_elements_list = list('danger!')\n",
    "print(len(multi_elements_list))  # 7"
   ]
  },
  {
   "cell_type": "markdown",
   "metadata": {},
   "source": [
    "# Recap\n",
    "+ **ordenadas**, cada elemento tiene una posición fija en una lista;\n",
    "+ **iterable**, puedes obtener sus elementos uno por uno;\n",
    "+ capaz de almacenar **valores duplicados**;\n",
    "+ capaz de almacenar **diferentes tipos de elementos**."
   ]
  },
  {
   "cell_type": "markdown",
   "metadata": {},
   "source": [
    "\n"
   ]
  },
  {
   "cell_type": "markdown",
   "metadata": {},
   "source": [
    "# Índices.\n",
    "Hay varias maneras de almacenar datos en Python. Colecciones ordenadas posicionalmente de elemtnos son frecuentemente llamadas sucesiones, las listas y las cadenas son sucesiones. Cada elemento en una lista, tanto como cada caracter en una cadena, tiene un **índice** que corresponde a su posición. Índices son utilizados para acceder a elementos dentro de una sucesión. Indexas es _zero-based_ (comienza en el cero), entonces si ves a una persona contando desde el cero, has conocido a un programador.\n",
    "\n",
    "# Acceder a un elemento por su índice.\n",
    "Para acceder a un elemento de una lista por su índice, debes utilizar **corchetes cuadrados []**. Agregas los corchetes después de la lista, y entre los corchetes, escribes el índice del elemento que quieras obtener.\n",
    "\n",
    "Las cadenas son objetos inmutables, lo que significa que no puedes modificar sus elementos. Las listas sí pueden modificarse.\n",
    "\n",
    "# Cambiando a negativos.\n",
    "La manera más fácil de acceder al último elementos de una lista o cadena es usar **índices negativos**: el menos antes del número cambia la perspectiva en un modo y puedes ver a la sucesión desde el final. Entonces, el último elemento de la lista, en este caso, tiene el índice igual a **-1**, y el primer elemento tiene un índice igual a **len(list)** (la longitud de la lista)."
   ]
  },
  {
   "cell_type": "code",
   "execution_count": null,
   "metadata": {},
   "outputs": [],
   "source": [
    "# Ejemplo:\n",
    "# Lista\n",
    "colors = ['red', 'green', 'blue']\n",
    " \n",
    "first_elem = colors[0]   # 'red'\n",
    "second_elem = colors[1]  # 'green'\n",
    "third_elem = colors[2]   # 'blue'\n",
    "\n",
    "# Cadena\n",
    "pet = \"cat\"\n",
    " \n",
    "first_char = pet[0]   # 'c'\n",
    "second_char = pet[1]  # 'a'\n",
    "third_char = pet[2]   # 't'\n",
    "\n",
    "# Si quieres acceder a un ídice que esté fuera del rango se la sucesión, Python devolverá un error: IndezError\n",
    "#print(colors[3])\n",
    "#print(per[5])\n",
    "\n",
    "# Podemos cambiar uno de los elementos de la lista fácilmente:\n",
    "print(colors)\n",
    "colors[1] = 'white'\n",
    "print(colors)\n",
    "\n",
    "# No se puede hacer lo mismo con cadenas: TypeError\n",
    "#pet[0] = 'b'\n",
    "\n",
    "print(pet[-1])\n",
    "print(colors[-3])"
   ]
  },
  {
   "cell_type": "markdown",
   "metadata": {},
   "source": [
    "# input\n",
    "El dato input que queremos obtener no es más que un valor capturado por un usuario. La función _input()_ lee este valor y **lo regresa en un programa como cadena**.\n",
    "\n",
    "# Mensajes claros\n",
    "Es altamente recomendado declarar claramente qué tipo de dato esperamos de cada usuario. La función input() puede tomar un argumento opcional, como un mensaje."
   ]
  },
  {
   "cell_type": "code",
   "execution_count": null,
   "metadata": {},
   "outputs": [],
   "source": [
    "name = input('Por favor, ingrese su nombre ')\n",
    "print('Hello', name + 'como estas?')  # Si utilizamos + entonces no usa espacios, con la coma incluye espacio\n",
    "\n"
   ]
  },
  {
   "cell_type": "markdown",
   "metadata": {},
   "source": [
    "# Para que el resultado sea número:"
   ]
  },
  {
   "cell_type": "code",
   "execution_count": null,
   "metadata": {},
   "outputs": [],
   "source": [
    "# Hay que tener cuidado porque si se ingresa algo que no sea un número, Python devolverá error.\n",
    "print('Cuál es tu número favorito?')\n",
    "value = int(input())\n",
    "print(value + 5)  # Se puede operar como entero"
   ]
  },
  {
   "cell_type": "markdown",
   "metadata": {},
   "source": [
    "# Para leer varios inputs, debemos llamar a la función más de una vez."
   ]
  },
  {
   "cell_type": "code",
   "execution_count": null,
   "metadata": {},
   "outputs": [],
   "source": [
    "day = int(input('Día de hoy: '))\n",
    "month = int(input('Mes actual: '))\n",
    "year = int(input('Año actual: '))\n",
    "print(day, '-', month, '-', year)"
   ]
  },
  {
   "cell_type": "code",
   "execution_count": null,
   "metadata": {},
   "outputs": [],
   "source": [
    "num1 = int(input('primer número: '))  # put your python code here\n",
    "num2 = int(input('segundo número: '))\n",
    "num3 = int(input('tercer número: '))\n",
    "print(num1 + num2 + num3)\n",
    "\n",
    "n = int(input('Otro número'))\n",
    "word = input('Palabra: ')\n",
    "print(n * word)\n"
   ]
  },
  {
   "cell_type": "code",
   "execution_count": null,
   "metadata": {},
   "outputs": [],
   "source": [
    "n1 = float(input())\n",
    "n2 = float(input())\n",
    "print(n1 + n2)"
   ]
  },
  {
   "cell_type": "code",
   "execution_count": null,
   "metadata": {},
   "outputs": [],
   "source": []
  },
  {
   "cell_type": "code",
   "execution_count": null,
   "metadata": {},
   "outputs": [],
   "source": [
    "print('''\n",
    "---\n",
    "The end of the program. Tocheck another habitat restart the watcher''')"
   ]
  },
  {
   "cell_type": "markdown",
   "metadata": {},
   "source": [
    "# Operaciones:\n",
    "Son las operaciones usuales de los números reales. algo importante que mencionar es acerca de la división '/' ya que la división entre dos números, ya sean enteros o float, imprime un valor tipo float, es decir, 100/10 = 10.0.\n",
    "\n",
    "Python utiliza las reglas de la aritmética, entonces la manera en que hace los cálculos sigue la jerarquía de operaciones.\n",
    "\n",
    "En cuanto a los módulos, Python opera con las propiedades de los módulos."
   ]
  },
  {
   "cell_type": "code",
   "execution_count": null,
   "metadata": {},
   "outputs": [],
   "source": [
    "print(2 + 2 * 2)  # Python utiliza jerarquía de operaciones.\n",
    "\n",
    "# Modulos para identificar números pares e impares.\n",
    "print('7 es impar, porque módulo dos es:', 7 % 2)\n",
    "print('8 es par, porque módulo dos es:', 8 % 2)\n",
    "\n",
    "## Propiedades de los móulos.\n",
    "# Divide the number by itself\n",
    "print(4 % 4)     # 0\n",
    "# At least one number is a float\n",
    "print(11 % 6.0)  # 5.0\n",
    "# The first number is less than the divisor\n",
    "print(55 % 77)   # 55\n",
    "# With negative numbers, it preserves the divisor sign\n",
    "print(-11 % 5)    # 4\n",
    "print(11 % -5)    # -4"
   ]
  },
  {
   "cell_type": "markdown",
   "metadata": {},
   "source": [
    "# Módulos\n",
    "El comportamiento de Python puede parecer extraño. Mientras que _11 % 5 = 1_ y _-11 % -5 = -1_ cuando ambos numeros tienen el signo negativo. Además -11 % 5 = 4, si tenemos un número negativo. **La cosa es, en Python, el residuo siempre tiene el mismo signo que el divisor**.   "
   ]
  },
  {
   "cell_type": "markdown",
   "metadata": {},
   "source": [
    "# PEP time!\n",
    "Algunas cosas para mencionar acerca de la lectura de las operaciones. **Siempre se rodea un operador binario con un espacio en cada lado**.\n",
    "\n",
    "A veces las operaciones se cortan en varios renglones. Algunas personas ponen las operaciones después de los operandos, pero es mejor que vayan antes.\n"
   ]
  },
  {
   "cell_type": "code",
   "execution_count": null,
   "metadata": {},
   "outputs": [],
   "source": [
    "number=32+3     # Así no se escribe\n",
    "\n",
    "number = 3 + 2  # Así se escribe\n",
    "\n",
    "# No: operadores están muy lejos de sus operandos\n",
    "income = (gross_wages +\n",
    "          taxable_interest +\n",
    "          (dividends - qualified_dividends) -\n",
    "          ira_deduction -\n",
    "          student_loan_interest)\n",
    "\n",
    "# Esta manera es la sugerida, de acuerdo con PEP 8.\n",
    "# Yes: fácil relacionar los operadores con sus operandos.\n",
    "income = (gross_wages\n",
    "          + taxable_interest\n",
    "          + (dividends - qualified_dividends)\n",
    "          - ira_deduction\n",
    "          - student_loan_interest)"
   ]
  },
  {
   "cell_type": "markdown",
   "metadata": {},
   "source": [
    "# Boolean\n",
    "El tipo **Boolean**, o simplemente **_bool_**, es un tipo especial de dato que únicamente tiene dos posibles valores: **True** y **False**. En Python, los nombres de los valores booleanos empiezan con **letra mayúscula**.\n",
    "\n",
    "El valor boolean es una manera habitual de representar algo que solo tiene dos estados opuestos, como prendido y apagado; o sí y no, etc."
   ]
  },
  {
   "cell_type": "code",
   "execution_count": null,
   "metadata": {},
   "outputs": [],
   "source": [
    "is_open = True\n",
    "is_closed = False\n",
    "\n",
    "print(is_open)\n",
    "print(is_closed)"
   ]
  },
  {
   "cell_type": "markdown",
   "metadata": {},
   "source": [
    "# Operadores booleanos.\n",
    "Hay tres operadores booleanos ya definidos en Python: **and**, **or** y **not**. Funcionan igual que los operadores en lógica.\n",
    "\n",
    "Los operadores lógicas tienen diferente prioridad y les afecta el orden de evaluación. Aquí están los operadores ordenados ascendentemente respecto a sus prioridades: **or**, **and** y **not**."
   ]
  },
  {
   "cell_type": "code",
   "execution_count": null,
   "metadata": {},
   "outputs": [],
   "source": [
    "print(False or not False)           # Primero se ejecuta el operador not.\n",
    "print(True and False or not True)   # False\n",
    "print(True  or False and not True)  # True"
   ]
  },
  {
   "cell_type": "markdown",
   "metadata": {},
   "source": [
    "# Truthy and falsy values.\n",
    "A pesar de que Python tenga tipos de datos booleanos, a menudo queremos utilizar valores no booleanos en un contexto lógico. Python permite probar casi cualquier objeto para ver si es verdadero o no. Cuando se utiliza con operadores lógicos, valores de tipo no booleano, tales como enteros o cadenas, son llamados **truthy** o **falsy**. Depende sn si son interpretados como **True** o **False**.\n",
    "\n",
    "Los siguientes valores son evaluados como **False** en Python:\n",
    "\n",
    "+ constantes definidas para ser falsas: **None** y **False**.\n",
    "+ cero de cualquier tipo numérico: **0, 0.0**.\n",
    "+ sucesiones y contenedores vacíos: **\"\", [],  {}**.\n",
    "\n",
    "Cualquier otra cosa generalmente es evaluada a **True**. Ejemplos:\n",
    "\n",
    "\n",
    "\n"
   ]
  },
  {
   "cell_type": "code",
   "execution_count": null,
   "metadata": {},
   "outputs": [],
   "source": [
    "print(0.0 or False)  # False\n",
    "print(False and \"\")  # False\n",
    "print(\"\" or False)   # False\n",
    "\n",
    "# ¿Por qué no imrpime estos?\n",
    "print(False or \"\")\n",
    "print(0.0 and False )"
   ]
  },
  {
   "cell_type": "markdown",
   "metadata": {},
   "source": [
    "Generalmente hablando, **and** y **or** pueden tomar cualesquiera argumentos que puedan ser probados para un valor booleano. Now podemos demostrar claramente la diferencia en la precedencia del operador."
   ]
  },
  {
   "cell_type": "code",
   "execution_count": null,
   "metadata": {},
   "outputs": [],
   "source": [
    "# `and` has a higher priority than `or`\n",
    "truthy_integer = False or 5 and 100  # 100\n",
    "print(truthy_integer)"
   ]
  },
  {
   "cell_type": "markdown",
   "metadata": {},
   "source": [
    "Descomponiendo la expresión de arriba en partes. Dado que el operador **and** tiene mayor prioridad que **or**, debemos mirar a **5 and 100**. Ambos **100** y **5** son (happen to be) valores truthy. Entonces esta operación regresará **100**. Nunca has visto esto antes, entonces es natural preguntarse porqué tenemos un número en vez de el valor **True**. Ya lo veremos en un momento. Regresando a la expresión original, puedes ver que la última parte **False or 100** hace exactamente lo mismo, regresa **100** en vez de **True**.\n",
    "\n",
    "**Los operadores _or_ y _and_ regresan uno de sus operandos, no necesariamente de tipo booleano. Sin embargo, _not_ siempre regresa un valor booleano**.\n",
    "\n",
    "Otro ejemplo truculento:"
   ]
  },
  {
   "cell_type": "code",
   "execution_count": null,
   "metadata": {},
   "outputs": [],
   "source": [
    "tricky = not (False or \"\")  # True\n",
    "print(tricky)"
   ]
  },
  {
   "cell_type": "markdown",
   "metadata": {},
   "source": [
    "Un par de paréntesis es la manera de especificar el orden en el cual las operaciones son realizadas. Por lo tanto evaluamos esa parte de la expresión primero: **False or \"\"**. Este operando **\"\"** se evalúa como falso y **or** regresa **\"\"** la cadena vacía. Dado que el resultado de la expresión dentro del paréntesis es negada, obtenemos **True** al final: **not \"\"** es lo mismo que **True**. ¿Por qué no obtuvimos, digamos, una cadena vacía? El operador **not** crea un nuevo valor, el cual es de tipo boolean de manera predeterminada. Por lo tanto, como se dijo antes, el operador unitario siempre regresa un valor lógico."
   ]
  },
  {
   "cell_type": "markdown",
   "metadata": {},
   "source": [
    "# Evaluación corto circuito.\n",
    "La última cosa a mencionar sobre los operadores lógicos en Python es que son **short-circuited**. Es por eso que también son llamados flojos **lazy**. Lo que significa que el segundo operador en tal expresión solo se ejecuta si el primero no es suficiente para evaluar la expresión completa.\n",
    "\n",
    "+ **x and y** regresa x si x es falsy, evalua y si x es truthy.\n",
    "+ **x or y** regresa x si x es truthy, evalua y si x es falsy.\n",
    "\n",
    "Por ejemplo:"
   ]
  },
  {
   "cell_type": "code",
   "execution_count": null,
   "metadata": {},
   "outputs": [],
   "source": [
    "# division is never evaluated, because the first argument is True\n",
    "lazy_or = True or (1 / 0)  # True\n",
    "print(lazy_or)\n",
    "\n",
    "# division is never evaluated, because the first argument is False\n",
    "lazy_and = False and (1 / 0)  # False\n",
    "print(lazy_and)\n",
    "\n",
    "# dos ejemplos de esto\n",
    "print(\"\" and 100)  # Ya no se evalúa el 100\n",
    "print(\"\" or 100)   # Se evalúan ambos valores e imprime el último\n",
    "print(100 and \"\")  # imprime la cadena vacía porque va al último\n",
    "print('Hay una cadena vacía arriba de mí')\n",
    "print(not None or 1)\n",
    "print(True or (1/0))"
   ]
  },
  {
   "cell_type": "code",
   "execution_count": null,
   "metadata": {},
   "outputs": [],
   "source": [
    "print(not None or 1)\n",
    "print(True or (1/0))\n"
   ]
  },
  {
   "cell_type": "markdown",
   "metadata": {},
   "source": [
    "# Nombrando variables.\n",
    "PEP 8 nos provee de algunas reglas para nombres de variables de manera que incremente la facilidad de lectura del código.\n",
    "\n",
    "+ Uso de guión bajo y minúsculas para separar las palabras. Incluso si es una abreviación:\n",
    "\n",
    "Sin embargo,si quieres definir una consante, es común exribir su nombre todo en mayúsuclas y, nuevamente, separar palabras son guión bajo. Normalmente, constantes están guardadas en archivos especiales llamados módulos. Ya veremos esto adelane.\n",
    "\n",
    "+ Evitar nombres de una letra que pudiera ser confundida con un número como **l** letra ele, **O** letra mayúscula o, **I** letra mayúscula i.\n",
    "\n",
    "+ Si el mejor nombre para una variable es una keyword de Python, añadir un guión bajo al final.\n",
    "\n",
    "+ Es mejor uilizar los caracteres ASCII como convención (sin acentos ni ñ).\n",
    "\n"
   ]
  },
  {
   "cell_type": "code",
   "execution_count": null,
   "metadata": {},
   "outputs": [],
   "source": [
    "# Separación de palabras con guión bajo\n",
    "http_response  # yes!\n",
    "httpresponse   # no\n",
    "myVariable     # no, that's from Java\n",
    "\n",
    "# Constante\n",
    "SPEED_OF_LIGHT = 299792458\n",
    "\n",
    "# Using Cyrillic instead of Latin can cause an evening of useless headache\n",
    "# These are different variables!\n",
    "copy = \"I'm in English\"  # yes!\n",
    "сору = \"And I'm not!\"    # no\n",
    "\n",
    "class_ = type(var)  # yes!\n",
    "klass = type(var)   # no!"
   ]
  },
  {
   "cell_type": "markdown",
   "metadata": {},
   "source": [
    "# Otros nombres que se utilizan en la práctica.\n",
    "+ Escoger un nombre que tenga sentido. El nombre de la variable debe ser legible y descripivo, debe explicar al lector qué tipo de valores están guardados en ella.\n",
    "\n",
    "+ No utilizar nombres demasiado genéricos. Intenta utilizar un nombre que explique el significado de la variable. Pero no la hagas con demasiadas palabras, 1-3 palabras son suficientes.\n",
    "\n",
    "+ Si una palabra es larga, intenta encontrar la forma corta más comun y esperada para hacerla ser adivinada fácilmente más tarde.\n",
    "\n",
    "+ Evita nombres de la lista de funciones que vienen en Python."
   ]
  },
  {
   "cell_type": "code",
   "execution_count": null,
   "metadata": {},
   "outputs": [],
   "source": [
    "# En Metemáticas es comun esto\n",
    "score  # yes!\n",
    "s      # no\n",
    " \n",
    "count  # yes!\n",
    "n      # no\n",
    "\n",
    "# No utilizar nombres genéricos\n",
    "http_response                  # yes!\n",
    "var1                           # no\n",
    "http_response_from_the_server  # no, some words can be dropped\n",
    "\n",
    "# La forma corta más comun y esperada.\n",
    "output_file_path  # yes!\n",
    "fpath             # no\n",
    "output_flpth      # no"
   ]
  },
  {
   "cell_type": "markdown",
   "metadata": {},
   "source": [
    "# Program with numbers.\n",
    "Son raros los programas en los que no hay nada que calcular. Por lo tanto, apender a programar con números nunca es una mala opción. Incluso la habilidad más valiosa que vamos a aprender es el procesamiento de datos de usuario. Con la ayuda de, puedes crear aplicaciones interactivas y por mucho más fexibles.\n",
    "\n",
    "Ya sabemos que la función input() regresa un valor de tipo str, entonces si queremos un entero o un float tenemos que transformar el input.\n",
    "\n",
    "**Recordar que** es recomendado escribir mensajes para los usuarios en la función _input()_."
   ]
  },
  {
   "cell_type": "code",
   "execution_count": null,
   "metadata": {},
   "outputs": [],
   "source": [
    "integer = int(input())\n",
    "floating_point = float(input())\n",
    "\n",
    "print(type(integer))\n",
    "print(type(floating_point))"
   ]
  },
  {
   "cell_type": "markdown",
   "metadata": {},
   "source": [
    "# Formas de asignación avanzadas.\n",
    "Cuando sea que se use el signo **=**, asignas algún valor a un nombre. Por esta razón, **=** tipicamente es referido como un **operador de asignación**. Mientras que hay otros operadores de asignación que se pueden usar en Pyhon. Esto también son llamados **operadores de asignación compuesta**, porque llevan a cabo una operación y asignación en un paso. Ver el código debajo.\n",
    "\n",
    "Uno puede claramente ver del ejemplo que la segunda pieza del código es más concisa (no se repite el nombre de la varible).\n",
    "\n",
    "Naturalmente, existen formas de asignación similares para el resto de las operaciones aritméticas: -=, *=, /=, //=, %=, **=.\n",
    "\n",
    "**El operador == no es un operador compuesto de asignación.**\n",
    "\n",
    "Dada la oportunidad, úsalos para ahorrar tiempo y esfuerzo."
   ]
  },
  {
   "cell_type": "code",
   "execution_count": null,
   "metadata": {},
   "outputs": [],
   "source": [
    "# Simple assignment\n",
    "number = 10\n",
    "number = number +1  # 11\n",
    "print(number)\n",
    "\n",
    "# Es equivalente\n",
    "number_equivalent = 10\n",
    "number_equivalent += 1  # 11 operadores de asignación compuestos.\n",
    "print(number_equivalent)"
   ]
  },
  {
   "cell_type": "markdown",
   "metadata": {},
   "source": [
    "# Contando variable.\n",
    "En programación, los loops son usados junto con variables especiales llamadas **contadores o counters**. Un **contador** cuenta cuántas veces un código en particular es ejecutado. Se sigue también que los contadores deben ser enteros. Ahora estamos llegando al puno -puedes usar los operadores += y -= para incrementar o decrementar el contador respectivamente.\n",
    "\n",
    "Consideren este ejemplo donde el usuario determina el valor por el cual el contador es incrementado.\n",
    "\n",
    "En caso de que solo necesiten enteros no negativos de el usuario (estamos incrementando después de todo), puedes prevenir inputs incorrectos por el usuario usando la función **abs()**"
   ]
  },
  {
   "cell_type": "code",
   "execution_count": null,
   "metadata": {},
   "outputs": [],
   "source": [
    "counter = 1\n",
    "step = int(input())  # let it be 3\n",
    "counter += step\n",
    "print(counter)  # debe ser cuatro\n",
    "\n",
    "# Para que acepte números negativos\n",
    "counter1 = 1\n",
    "step1 = abs(int(input()))\n",
    "counter1 += step1\n",
    "print(counter1)"
   ]
  },
  {
   "cell_type": "code",
   "execution_count": null,
   "metadata": {},
   "outputs": [],
   "source": [
    "# Código para calcular la diferencia de segundos entre dos tiempos.\n",
    "print(100*2 + 30 * 7 + 40* 6)"
   ]
  },
  {
   "cell_type": "code",
   "execution_count": null,
   "metadata": {},
   "outputs": [],
   "source": [
    "# Calcula el total de dinero requeriso\n",
    "days = int(input())\n",
    "food_cost_day = int(input())\n",
    "flight_cost = int(input())  # Solo de ida\n",
    "night_cost = int(input())   # número de noches = days - 1\n",
    "\n",
    "money = flight_cost * 2 + food_cost_day * days + night_cost * (days - 1)\n",
    "print('dinero:', money)\n",
    "\n",
    "# Calcula el total de segundos entre dos tiempos.\n",
    "hours1 = int(input())\n",
    "minutes1 = int(input())\n",
    "second1 = int(input())\n",
    "\n",
    "hours2 = int(input())\n",
    "minutes2 = int(input())\n",
    "second2 = int(input())\n",
    "\n",
    "seconds = (hours2 - hours1) * 3600 + (minutes2 - minutes1) * 60 + (second2 - second1)\n",
    "\n",
    "print('segundos;', seconds)\n"
   ]
  },
  {
   "cell_type": "code",
   "execution_count": null,
   "metadata": {},
   "outputs": [],
   "source": [
    "# Decidir si los tickets son lucky o no, son lucky cuando la suma de los primeros tres es igual a la suma de los últimos tres\n",
    "# Save the input in this variable\n",
    "ticket = input('Inserte un número de seis dígitos: ')\n",
    "\n",
    "# Add up the digits for each half\n",
    "half1 = int(ticket[3]) + int(ticket[4]) + int(ticket[5])\n",
    "half2 = int(ticket[0]) + int(ticket[1]) + int(ticket[2])\n",
    "\n",
    "# Thanks to you, this code will work\n",
    "if half1 == half2:\n",
    "    print(\"Lucky\")\n",
    "else:\n",
    "    print(\"Ordinary\")"
   ]
  },
  {
   "cell_type": "code",
   "execution_count": null,
   "metadata": {},
   "outputs": [],
   "source": [
    "# Programa que imrpime superficie, volumen y altura.\n",
    "# put your python code here\n",
    "lenght = int(input())\n",
    "width = int(input())\n",
    "height = int(input())\n",
    "\n",
    "sum_lengths_edges = 4 * (lenght + width + height)\n",
    "surface_area = 2 * (lenght * width + width * height + lenght * height)\n",
    "volume = lenght * height * width\n",
    "print(sum_lengths_edges)\n",
    "print(surface_area)\n",
    "print(volume)"
   ]
  },
  {
   "cell_type": "code",
   "execution_count": null,
   "metadata": {},
   "outputs": [],
   "source": [
    "number = 7\n",
    "print(number // 2 + number % 2)"
   ]
  },
  {
   "cell_type": "code",
   "execution_count": null,
   "metadata": {},
   "outputs": [],
   "source": [
    "# Programa que calcula el número de escritorios necesarios para que no sobren alumnos sin escritorio\n",
    "# En un escritorio caben dos alumnos\n",
    "students1 = int(input())  # número de estudiantes en el salón 1\n",
    "students2 = int(input())  # número de estudiantes en el salón 2\n",
    "students3 = int(input())  # número de estudiantes en el salón 3\n",
    "\n",
    "# número de escritorios:\n",
    "print('escritorios:', students1 // 2 + students1 % 2 + students2 // 2 + students2 % 2 + students3 // 2 + students3 % 2)"
   ]
  },
  {
   "cell_type": "code",
   "execution_count": null,
   "metadata": {},
   "outputs": [],
   "source": [
    "print(14 - 14 // 3 * 3)"
   ]
  },
  {
   "cell_type": "markdown",
   "metadata": {},
   "source": [
    "# Comparaciones.\n",
    "las operaciones **Comparación** o **relación** permiten comparar dos valores y determinar la relación entre ellos. Hay 10 operadores de comparación en Python.\n",
    "+ < menor\n",
    "+ <= menor o igual.\n",
    "+ **>** mayor que.\n",
    "+ **>=** mayor o igual que.\n",
    "+ == equal.\n",
    "+ != not equal.\n",
    "+ is identidad de objeto.\n",
    "+ is not negación de idetidad de objeto.\n",
    "+ in miembro (subcadena in cadena).\n",
    "+ not in negación de miembro.\n",
    "\n",
    "El resultado de aplicar estos operadores es siempre **bool**. Las siguientes secciones se concentran en los primeros seis operadores.\n",
    "\n",
    "# Comparación en cadena.\n",
    "Dado que las operaciones de comparación devuelven valores booleanos, podemos unirlos usando operadores lógicos.\n",
    "\n",
    "En Python hay una manera elegante de escribir comparaciones complejas. Se llama encadenación (chaining). Por ejemplo, **x < y <= z** es casi equivalente a la expresión del penúltimo ejemplo. La diferencia es que **y** solo es evaluado una vez."
   ]
  },
  {
   "cell_type": "code",
   "execution_count": null,
   "metadata": {},
   "outputs": [],
   "source": [
    "a = 5\n",
    "b = -10\n",
    "c = 15\n",
    " \n",
    "result_1 = a < b   # False\n",
    "result_2 = a == a  # True\n",
    "result_3 = a != b  # True\n",
    "result_4 = b >= c  # False\n",
    "\n",
    "calculated_result = a == b + c  # True\n",
    "\n",
    "x = -5\n",
    "y = 10\n",
    "z = 12\n",
    " \n",
    "# Se evalúa dos veces a y\n",
    "result = x < y and y <= z  # True\n",
    "\n",
    "# Solo se evalúa una vez.\n",
    "result = 10 < (100 * 100) <= 10000  # True, the multiplication is evaluated once"
   ]
  },
  {
   "cell_type": "code",
   "execution_count": null,
   "metadata": {},
   "outputs": [],
   "source": [
    "cinema_halls = 9\n",
    "capacity_hall = 68\n",
    "viewers = 589\n",
    "\n",
    "total_seats = cinema_halls * capacity_hall\n",
    "print(viewers <= total_seats)"
   ]
  },
  {
   "cell_type": "markdown",
   "metadata": {},
   "source": [
    "# Cláusula IF simple.\n",
    "Hay situaciones cuando tu programa necesita executar alguna parte del código solo si una condición particular es verdadero. Tal pieza de código debe ser colocado dentro del cuerpo de un **if statement**. El patrón es el mismo que en el Inglés: primero viene la palabra clave **if**, luego una condición, y después una lista de expresiones a executar. La condición es siempre una **expresión booleana**, esto es, su valor es igual a **True** o **False**. Aquí hay un ejemplo de cómo se ve el código con una expresión condicional.\n",
    "   \n",
    "   Notar que la condición termina con dos puntos y una nueva línea empieza con una **indentación**. Usualmente, hay que usar 4 espacios de separación entre diferentes bloques de código. Un **if** es ejecutado solo si sus condiciones se mantienen (el valor booleano es **True**), en otro caso, se salta.\n",
    "   \n",
    "   Los valores booleanos básicamente hacen claro si un pedazo de código necesita ser ejecutado o no. Dado que el resulado de las comparaciones es **bool**, siempre es buena idea usarlas como una condición.\n",
    "    **SE USAN LOS ESPACIOS PARA INDENTAR Y : PARA INDICAR QUE HAY UNA INDENTACIÓN**.\n",
    "    \n",
    "    "
   ]
  },
  {
   "cell_type": "code",
   "execution_count": null,
   "metadata": {},
   "outputs": [],
   "source": [
    "# Sintaxis simple del IF.\n",
    "biscuits = 17\n",
    "if biscuits >= 5:\n",
    "    print(\"It's time for tea!\")  # Notar que no hay error de indentación\n",
    "    "
   ]
  },
  {
   "cell_type": "markdown",
   "metadata": {},
   "source": [
    "# Cláusula if anidada.\n",
    "A veces una condición es muy complicada para un simple **if**. En este caso, debes usar los llamados **if anidado**. Mientras más **if** son anidados, más complejo se volverá el código, lo cual usualmente no es una cosa buena. Sin embargo, esto no significa que necesitas evitar los **if anidados** a cualquier costo.\n",
    "    El ejemplo de abajo ilustra un **if anidado**. Si la variable **my_color** es una cadena que contiene el nombre de un color del arcoíris, entramos al cuerpo del primer **if**. Primero, mostramos el mensaje y luego vemos si nuestro color pertenerce a los colores cálidos. El miembro operador **in** simplemene muestra si **my_color** es una subcadena de la respectiva cadena, **rainbow, warm_colors**. Como en las comparaciones de aritmética, regresa un valor de tipo booleano."
   ]
  },
  {
   "cell_type": "code",
   "execution_count": null,
   "metadata": {},
   "outputs": [],
   "source": [
    "rainbow = \"red, orange, yellow, green, blue, indigo, violet\"\n",
    "warm_colors = \"red, yellow, orange\"\n",
    "my_color = \"orange\"\n",
    " \n",
    "# si el color está en el arcoíris\n",
    "if my_color in rainbow:\n",
    "    print(\"Wow, your color is in the rainbow!\")\n",
    "    if my_color in warm_colors:  # pertenece al cuerpo del primer if, se ejecuta cuando la condición de True\n",
    "        print(\"Oh, by the way, it's a warm color.\")"
   ]
  },
  {
   "cell_type": "code",
   "execution_count": null,
   "metadata": {},
   "outputs": [],
   "source": [
    "coin = True\n",
    "if coin:\n",
    "    print(\"Welcome to Charon's boat!\")\n",
    "print('There is no turning back')\n"
   ]
  },
  {
   "cell_type": "code",
   "execution_count": null,
   "metadata": {},
   "outputs": [],
   "source": [
    "# Para calcular el mínimo entre dos números\n",
    "a = 1\n",
    "b = 2\n",
    "\n",
    "minimum = a\n",
    "if b < minimum:\n",
    "    minimum = b\n",
    "print(minimum)"
   ]
  },
  {
   "cell_type": "markdown",
   "metadata": {},
   "source": [
    "# While loop.\n",
    "A veces una iteración (=ejecución) de un enunciado no es suficiente para obtener el resultado que necesitas. Por esta razón, Python ofrece un enunciado especial que ejecutará el bloque de código varias veces. Conoce el comando **loop** y uno de los loops universales es el **while**.\n",
    "   \n",
    "   La gente generalmente no escoge Python para escribir código **rápido**. La principales ventajas de Python son la legibilidad y simplicidad. Mientras que el **while loop** requiere la introducción de variables extras, toma más tiempo para una iteración. Por lo tanto, el while loop es lento y no tan popular. Parece como un operador condicional: usando el while loop, podemos ejecutar un conjunto de enunciados siempre y cuando la condición sea verdadera.\n",
    "   \n",
    "   La condición (2) está escrita antes del **cuerpo** del loop (algunos lo llaman el código condicional) y es revisado antes de que el cuerpo de sea ejecuado. Si la condición es verdadera (3a), las iteraciones continúan, la ejecución del loop s terminada y el control del programa avanza hacía la siguiente operación.                                         \n",
    "                              3 a) coditional code\n",
    "                                    ^\n",
    "                                    | True                                 \n",
    "                                    |         False\n",
    "1) while statement   ------> 2) condition   --------> 3b) next block\n",
    "\n",
    "# Visualization.\n",
    "La variable número juega el papel de **contador** -una variable que cambia su valor después de cada iteración. En este caso, las iteraciones continúan hasta el que el número sea igual que 5. Cuando el valor de un contador alcanza 5, el programa se mueve a la siguiente operación e imprime el mensaje. Aquí puedes ver la sintaxis y el output."
   ]
  },
  {
   "cell_type": "code",
   "execution_count": null,
   "metadata": {},
   "outputs": [],
   "source": [
    "number = 0\n",
    "while number < 5:\n",
    "    print(number)\n",
    "    number += 1\n",
    "print('Now, number is greater than or equal to 5')\n",
    "print(number)  # Cuando el número es cuatro, todavía se ejecuta una vez más el while loop, entonces queda igual a 5."
   ]
  },
  {
   "cell_type": "markdown",
   "metadata": {},
   "source": [
    "# The infinite loop.\n",
    "Si borras la parte del código condicional donde incrementas el valor de un contador, entrarás en el **loop infinito**. ¿Qué significa esto? Dado que no incrementas tu variable, una condición nunca se vuelve faltsa y puede trabajar para siempre. Usualmente, es una falacia lógica, y tendrás que detener el loop usando enunciados especiales o terminando el loop manualmente.\n",
    "    \n",
    "Algunas veces el loop infinito puede ser útil, por ejemplo, en consultar un cliente cuando el loop trabaja continuamente para proveer el constante cambio de información con un usuario. Pueds implementarlo escribiendo **True** como condición después del **while**.\n",
    "    \n",
    "Ahora estás familiarizado con el while loop y su uso. No olvides sobre el rol de un contador, de otra forma, tendrás que enfrentarte con el infinite loop. Después de que hayas escrito el código, trata de correrlo como si fueras un programa de Python. Eso te ayudará a entender cómo el loop trabaja.\n",
    "\n",
    "Programar es todo sobre simplicidad, entonces el código debe ser legible, corto y claro. No olvides sobre comentarios y sintaxis. En el comienzo, parece que el while loop no es tan fácil de implementar, pero desupués de un par de veces, te darás cuenta que es una herramienta últil."
   ]
  },
  {
   "cell_type": "code",
   "execution_count": null,
   "metadata": {},
   "outputs": [],
   "source": [
    "# Calculando el half-life de física cuántica. Cada doce días se divide el número de átomos a la mitad.\n",
    "atoms = int(input())\n",
    "resulting = int(input())\n",
    "\n",
    "days = 0\n",
    "while resulting < atoms:\n",
    "    days += 12\n",
    "    atoms /= 2\n",
    "print(days)\n"
   ]
  },
  {
   "cell_type": "code",
   "execution_count": null,
   "metadata": {},
   "outputs": [],
   "source": [
    "# Factorial de un número:\n",
    "number = int(input())\n",
    "\n",
    "i = 1\n",
    "factorial = 1\n",
    "while i in range(1, number):\n",
    "    i += 1\n",
    "    factorial *= i\n",
    "print(factorial)"
   ]
  },
  {
   "cell_type": "code",
   "execution_count": null,
   "metadata": {},
   "outputs": [],
   "source": [
    "# loop infinito\n",
    "i = 0\n",
    "while True:\n",
    "    # lo que sea\n",
    "    i += 1\n",
    "    print(i)"
   ]
  },
  {
   "cell_type": "code",
   "execution_count": null,
   "metadata": {},
   "outputs": [],
   "source": [
    "# Genere más *\n",
    "i = 0\n",
    "while i < 5:\n",
    "    print('*')\n",
    "    if i % 2 == 0:\n",
    "        print('**')\n",
    "    if i > 2:\n",
    "        print('***')\n",
    "    i = i + 1"
   ]
  },
  {
   "cell_type": "code",
   "execution_count": null,
   "metadata": {},
   "outputs": [],
   "source": [
    "# Imprime todos los números cuadrados entre 1 y 20\n",
    "i = 1\n",
    "while 1 <= i <= 20:\n",
    "    print(i * i)\n",
    "    i += 1\n"
   ]
  },
  {
   "cell_type": "code",
   "execution_count": null,
   "metadata": {},
   "outputs": [],
   "source": [
    "# Imprime los números pares menores que el número dado.\n",
    "number = int(input())\n",
    "\n",
    "i = 1\n",
    "while 0 < i < number:\n",
    "    if i % 2 == 0:\n",
    "        print(i)\n",
    "    i += 1\n"
   ]
  },
  {
   "cell_type": "code",
   "execution_count": null,
   "metadata": {},
   "outputs": [],
   "source": [
    "deposit = int(input())\n",
    "years = 0\n",
    "\n",
    "while deposit < 700000:\n",
    "    deposit *= 1.071\n",
    "    years += 1\n",
    "print(years)"
   ]
  },
  {
   "cell_type": "code",
   "execution_count": null,
   "metadata": {},
   "outputs": [],
   "source": [
    "# suma de los naturales entre 1 y el indicado.\n",
    "natural = int(input())\n",
    "\n",
    "sum_naturals = 0\n",
    "i = 1\n",
    "while i in range(1, natural + 1):\n",
    "    sum_naturals = sum_naturals + i\n",
    "    i += 1\n",
    "print(sum_naturals)\n"
   ]
  },
  {
   "cell_type": "code",
   "execution_count": 3,
   "metadata": {},
   "outputs": [
    {
     "name": "stdout",
     "output_type": "stream",
     "text": [
      "Tienes que ingresar un número del 0-5 o la palabra exit para salir1\n",
      "lion\n",
      "exit\n",
      "See you!\n"
     ]
    }
   ],
   "source": [
    "# Preguntas al usuario qué animal desea ver, si es exit adiós.\n",
    "animals = ['camel', 'lion', 'deer', 'goose', 'bat', 'rabbit']\n",
    "habitat = input('Tienes que ingresar un número del 0-5 o la palabra exit para salir:')\n",
    "while habitat != 'exit':\n",
    "    print(animals[int(habitat)])\n",
    "    habitat = input('Tienes que ingresar un número del 0-5 o la palabra exit para salir:')\n",
    "print('See you!')"
   ]
  },
  {
   "cell_type": "markdown",
   "metadata": {},
   "source": [
    "# Evitando malos comentarios.\n",
    "## Cuándo no escribir comentarios?\n",
    "Aunque suene extraño a veces es mejor no escribir comentarios. Bien escritos, pueden agregar legibilidad al programa, pero eso no significa que los debas de incluir siempre que puedas. Al contrario, muchos programadores están convencidos de que un buen pedazo de código no requiere comentarios en primer lugar, por su transparencia y precisión. Esto es a lo que estamos apuntando. Por lo tanto, si el código se puede hacer **auto explicativo**, los comentarios son innecesarios, y es mejor cambiar el código. Restaltemos casos cuando los desarrolladores necesitan comentar menos:\n",
    "\n",
    "En 1, si un comentario **explica una variable/función**, puedes borrar el comentario y **nombrar explícitamente** la variable/función. \n",
    "\n",
    "En 2, evita escribir **comentarios obvios**, como el del 2. Hacen que el código sea redundante y más difícil de leer. Debes siempre buscar seguir el principio D.R.Y (don't reply yourself), no W.E.T ('wrote everything twice' o 'wasted everyone's time' para más cínicos).\n",
    "\n",
    "Si ves una manera de modificar el código de manera que los **comentarios** se vuelvan **innecesarios** debes hacerlo.\n",
    "\n",
    "Si puedes evitar comentarios, más vale que lo hagas. Entonces tu código estaría limpio, no estaría sobrecargado con detalles innecesarios y no se convertiría más complicado que claro para el entendimiento de los lectores."
   ]
  },
  {
   "cell_type": "code",
   "execution_count": 1,
   "metadata": {},
   "outputs": [],
   "source": [
    "# 1\n",
    "n = 0  # number of participants\n",
    "participants_num = 0\n",
    "\n",
    "# 2\n",
    "age = 20  # age is 20\n",
    "greeing = 'hello'  # asigna 'hello' a greeting"
   ]
  },
  {
   "cell_type": "markdown",
   "metadata": {},
   "source": [
    "# Cómo escribir buenos comentarios?\n",
    "Ahora, los casos cuando decides escribir comentarios. La principal razón para recordar entonces es que los comentarios deben ser **entendibles** para todos, sea tu futuro yo o algún otro programador. Aquí hay algunos tips:\n",
    "\n",
    "En 1, generalmente los comentarios deber responder a la pregunta **por qué?** opuesto a **qué**. De cualquier forma, debe ser **útil para principiantes** escribir comentarios para sí mismos explicanso lo que el código hace, especialmente cuando se usa una nueva expresión sintáctica aprendida.\n",
    "\n",
    "En 2, asegura que los comentarios no **contradigan el código** (¡esto ocurre más seguido de lo que imaginas!). Comentarios malos son peor que no utilizar comentarios.\n",
    "\n",
    "En 3, no olvides **actualizar** los comentarios si modificas el código. Solo confundirá al lector en vez de ayudarlo. En el ejemplo de abajo la variable \"counter\" solía ser designada como \"i\"; el programador cambió el nombre en el código pero no el comentatio."
   ]
  },
  {
   "cell_type": "code",
   "execution_count": 2,
   "metadata": {},
   "outputs": [
    {
     "name": "stdout",
     "output_type": "stream",
     "text": [
      "3\n"
     ]
    }
   ],
   "source": [
    "# 1\n",
    "result = 15 % 4  # % es utilizado para división con cociente\n",
    "\n",
    "# 2\n",
    "# decrease the counter \n",
    "counter += 1\n",
    "\n",
    "# 3\n",
    "# i es incrementado en caso de errores\n",
    "counter += 1"
   ]
  },
  {
   "cell_type": "markdown",
   "metadata": {},
   "source": [
    "# Conclusion\n",
    "Cuando se comenta el código, es imporante saber dónde dibujar la línea. Ambos programas **sobre comentados** y **no comentados** pueden ser díficiles de entender, resultando en tiempo desperdiciado y nada placentero gastado a trabajar con tales piezas de código. Entonces, deber siempre intentar escribir comentarios cuidadosamente y **solo cuando sea necesario**.\n",
    "\n",
    "La manera más simple de aprender a hacerlo es haciéndolo. Es una buena idea empezar practicando cuando solo empiezas a hacer código porque te acostumbrarás a hacerlo, y para el momento en que problemas más complejos deban ser resueltos, sabrás cómo escribir comentarios propiamente. Desde ahora en adelante, intenta **incluir comentarios simples** en tus códigos para explicar momentos difíciles que parezcan tomar un rato para entender. También es útil regresar a **revisar** tus **programas viejos** y ver cómo los comentarios pueden ser mejorados."
   ]
  },
  {
   "cell_type": "code",
   "execution_count": null,
   "metadata": {},
   "outputs": [],
   "source": []
  }
 ],
 "metadata": {
  "kernelspec": {
   "display_name": "Python 3",
   "language": "python",
   "name": "python3"
  },
  "language_info": {
   "codemirror_mode": {
    "name": "ipython",
    "version": 3
   },
   "file_extension": ".py",
   "mimetype": "text/x-python",
   "name": "python",
   "nbconvert_exporter": "python",
   "pygments_lexer": "ipython3",
   "version": "3.7.6"
  }
 },
 "nbformat": 4,
 "nbformat_minor": 4
}
